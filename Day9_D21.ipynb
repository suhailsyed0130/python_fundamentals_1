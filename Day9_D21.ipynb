{
 "cells": [
  {
   "cell_type": "code",
   "execution_count": null,
   "metadata": {},
   "outputs": [],
   "source": [
    "list--->f''"
   ]
  },
  {
   "cell_type": "code",
   "execution_count": 1,
   "metadata": {},
   "outputs": [],
   "source": [
    "names=['aamir','sameer','suhail','harshal']"
   ]
  },
  {
   "cell_type": "code",
   "execution_count": null,
   "metadata": {},
   "outputs": [],
   "source": [
    "#REQ:appreciate a person "
   ]
  },
  {
   "cell_type": "code",
   "execution_count": 2,
   "metadata": {},
   "outputs": [
    {
     "name": "stdout",
     "output_type": "stream",
     "text": [
      "KEEP UP THE GOOD WORK,Sameer\n"
     ]
    }
   ],
   "source": [
    "print(f\"KEEP UP THE GOOD WORK,{names[1].title()}\")  #individual approach"
   ]
  },
  {
   "cell_type": "code",
   "execution_count": null,
   "metadata": {},
   "outputs": [],
   "source": []
  },
  {
   "cell_type": "code",
   "execution_count": null,
   "metadata": {},
   "outputs": [],
   "source": [
    "INTRODUCTION TO FOR LOOPS:"
   ]
  },
  {
   "cell_type": "code",
   "execution_count": null,
   "metadata": {},
   "outputs": [],
   "source": [
    "#GENERAL SYNTAX FOR THIS IS:\n",
    "for tempvariable in mainvariable:\n",
    "    print(tempvariable)"
   ]
  },
  {
   "cell_type": "code",
   "execution_count": 22,
   "metadata": {},
   "outputs": [
    {
     "name": "stdout",
     "output_type": "stream",
     "text": [
      "aamir\n",
      "sameer\n",
      "suhail\n",
      "harshal\n"
     ]
    }
   ],
   "source": [
    "for X in names:\n",
    "    print(X)"
   ]
  },
  {
   "cell_type": "code",
   "execution_count": null,
   "metadata": {},
   "outputs": [],
   "source": []
  },
  {
   "cell_type": "code",
   "execution_count": 24,
   "metadata": {},
   "outputs": [
    {
     "name": "stdout",
     "output_type": "stream",
     "text": [
      "aamir\n",
      "sameer\n",
      "suhail\n",
      "harshal\n"
     ]
    }
   ],
   "source": [
    "for batman in names:\n",
    "    print(batman)"
   ]
  },
  {
   "cell_type": "code",
   "execution_count": null,
   "metadata": {},
   "outputs": [],
   "source": []
  },
  {
   "cell_type": "code",
   "execution_count": null,
   "metadata": {},
   "outputs": [],
   "source": [
    "#req:appreciating all for submitting practise files"
   ]
  },
  {
   "cell_type": "code",
   "execution_count": 8,
   "metadata": {},
   "outputs": [
    {
     "name": "stdout",
     "output_type": "stream",
     "text": [
      "KEEP UP THE GOOD WORK,Aamir.\n",
      "LOOKING FORWARD TO SEE YOUR PRACTISE FILES\n",
      "KEEP UP THE GOOD WORK,Sameer.\n",
      "LOOKING FORWARD TO SEE YOUR PRACTISE FILES\n",
      "KEEP UP THE GOOD WORK,Suhail.\n",
      "LOOKING FORWARD TO SEE YOUR PRACTISE FILES\n",
      "KEEP UP THE GOOD WORK,Harshal.\n",
      "LOOKING FORWARD TO SEE YOUR PRACTISE FILES\n"
     ]
    }
   ],
   "source": [
    "for x in names:\n",
    "    print(f\"KEEP UP THE GOOD WORK,{x.title()}.\")\n",
    "    print(\"LOOKING FORWARD TO SEE YOUR PRACTISE FILES\")"
   ]
  },
  {
   "cell_type": "code",
   "execution_count": 9,
   "metadata": {
    "scrolled": true
   },
   "outputs": [
    {
     "name": "stdout",
     "output_type": "stream",
     "text": [
      "KEEP UP THE GOOD WORK,Aamir.\n",
      "LOOKING FORWARD TO SEE YOUR PRACTISE FILES\n",
      "\n",
      "KEEP UP THE GOOD WORK,Sameer.\n",
      "LOOKING FORWARD TO SEE YOUR PRACTISE FILES\n",
      "\n",
      "KEEP UP THE GOOD WORK,Suhail.\n",
      "LOOKING FORWARD TO SEE YOUR PRACTISE FILES\n",
      "\n",
      "KEEP UP THE GOOD WORK,Harshal.\n",
      "LOOKING FORWARD TO SEE YOUR PRACTISE FILES\n",
      "\n"
     ]
    }
   ],
   "source": [
    "for x in names:\n",
    "    print(f\"KEEP UP THE GOOD WORK,{x.title()}.\")\n",
    "    print(\"LOOKING FORWARD TO SEE YOUR PRACTISE FILES\\n\")"
   ]
  },
  {
   "cell_type": "code",
   "execution_count": null,
   "metadata": {},
   "outputs": [],
   "source": []
  },
  {
   "cell_type": "code",
   "execution_count": null,
   "metadata": {},
   "outputs": [],
   "source": [
    "introduction to if statements:"
   ]
  },
  {
   "cell_type": "code",
   "execution_count": null,
   "metadata": {},
   "outputs": [],
   "source": [
    "three types:\n",
    "1.)if statements\n",
    "2.)if-else statements\n",
    "3.)if-elif-else statements"
   ]
  },
  {
   "cell_type": "code",
   "execution_count": null,
   "metadata": {},
   "outputs": [],
   "source": []
  },
  {
   "cell_type": "code",
   "execution_count": null,
   "metadata": {},
   "outputs": [],
   "source": [
    "#1.) if ststements"
   ]
  },
  {
   "cell_type": "code",
   "execution_count": 12,
   "metadata": {},
   "outputs": [
    {
     "name": "stdout",
     "output_type": "stream",
     "text": [
      "YOU ARE A KID\n"
     ]
    }
   ],
   "source": [
    "age=17\n",
    "if age<18:\n",
    "    print(\"YOU ARE A KID\")"
   ]
  },
  {
   "cell_type": "code",
   "execution_count": null,
   "metadata": {},
   "outputs": [],
   "source": [
    "#2.)if-else statements"
   ]
  },
  {
   "cell_type": "code",
   "execution_count": null,
   "metadata": {},
   "outputs": [],
   "source": [
    "case study:\n",
    "building a voting app"
   ]
  },
  {
   "cell_type": "code",
   "execution_count": 16,
   "metadata": {},
   "outputs": [
    {
     "name": "stdout",
     "output_type": "stream",
     "text": [
      "YOU CANNOT VOTE\n"
     ]
    }
   ],
   "source": [
    "age=17\n",
    "if age<=18:\n",
    "    print(\"YOU CANNOT VOTE\")\n",
    "else:\n",
    "    print(\"YOU CAN VOTE\")\n",
    "    "
   ]
  },
  {
   "cell_type": "code",
   "execution_count": null,
   "metadata": {},
   "outputs": [],
   "source": [
    "#logical opereators---<,>,<=,>=,=="
   ]
  },
  {
   "cell_type": "code",
   "execution_count": 17,
   "metadata": {},
   "outputs": [
    {
     "name": "stdout",
     "output_type": "stream",
     "text": [
      "YOU CAN VOTE\n"
     ]
    }
   ],
   "source": [
    "age=21\n",
    "if age<=18:\n",
    "    print(\"YOU CANNOT VOTE\")\n",
    "else:\n",
    "    print(\"YOU CAN VOTE\")"
   ]
  },
  {
   "cell_type": "code",
   "execution_count": null,
   "metadata": {},
   "outputs": [],
   "source": []
  },
  {
   "cell_type": "code",
   "execution_count": null,
   "metadata": {},
   "outputs": [],
   "source": [
    "3.)if-elif-else statement"
   ]
  },
  {
   "cell_type": "code",
   "execution_count": null,
   "metadata": {},
   "outputs": [],
   "source": [
    "case study:\n",
    "baby growth"
   ]
  },
  {
   "cell_type": "code",
   "execution_count": 18,
   "metadata": {},
   "outputs": [
    {
     "name": "stdout",
     "output_type": "stream",
     "text": [
      "THE BABY CANNOT CRAWL\n"
     ]
    }
   ],
   "source": [
    "age=1\n",
    "if age==1:\n",
    "    print(\"THE BABY CANNOT CRAWL\")\n",
    "elif age==2:\n",
    "    print(\"THE BABY CAN CRAWL\")\n",
    "elif age==3:\n",
    "    print(\"THE BABY CAN STAND\")\n",
    "elif age==4:\n",
    "    print(\"THE BABY CAN TALK\")\n",
    "elif age==5:\n",
    "    print(\"THE BABY CAN RUN\")\n",
    "else:\n",
    "    print(\"THE BABY HAS GROWN\")\n",
    "    "
   ]
  },
  {
   "cell_type": "code",
   "execution_count": 19,
   "metadata": {},
   "outputs": [
    {
     "name": "stdout",
     "output_type": "stream",
     "text": [
      "THE BABY CAN TALK\n"
     ]
    }
   ],
   "source": [
    "age=4\n",
    "if age==1:\n",
    "    print(\"THE BABY CANNOT CRAWL\")\n",
    "elif age==2:\n",
    "    print(\"THE BABY CAN CRAWL\")\n",
    "elif age==3:\n",
    "    print(\"THE BABY CAN STAND\")\n",
    "elif age==4:\n",
    "    print(\"THE BABY CAN TALK\")\n",
    "elif age==5:\n",
    "    print(\"THE BABY CAN RUN\")\n",
    "else:\n",
    "    print(\"THE BABY HAS GROWN\")"
   ]
  },
  {
   "cell_type": "code",
   "execution_count": 20,
   "metadata": {},
   "outputs": [
    {
     "name": "stdout",
     "output_type": "stream",
     "text": [
      "THE BABY HAS GROWN\n"
     ]
    }
   ],
   "source": [
    "age=50\n",
    "if age==1:\n",
    "    print(\"THE BABY CANNOT CRAWL\")\n",
    "elif age==2:\n",
    "    print(\"THE BABY CAN CRAWL\")\n",
    "elif age==3:\n",
    "    print(\"THE BABY CAN STAND\")\n",
    "elif age==4:\n",
    "    print(\"THE BABY CAN TALK\")\n",
    "elif age==5:\n",
    "    print(\"THE BABY CAN RUN\")\n",
    "else:\n",
    "    print(\"THE BABY HAS GROWN\")"
   ]
  },
  {
   "cell_type": "code",
   "execution_count": 21,
   "metadata": {},
   "outputs": [
    {
     "name": "stdout",
     "output_type": "stream",
     "text": [
      "THE BABY HAS GROWN\n"
     ]
    }
   ],
   "source": [
    "age=20\n",
    "if age==1:\n",
    "    print(\"THE BABY CANNOT CRAWL\")\n",
    "elif age==2:\n",
    "    print(\"THE BABY CAN CRAWL\")\n",
    "elif age==3:\n",
    "    print(\"THE BABY CAN STAND\")\n",
    "elif age==4:\n",
    "    print(\"THE BABY CAN TALK\")\n",
    "elif age==5:\n",
    "    print(\"THE BABY CAN RUN\")\n",
    "else:\n",
    "    print(\"THE BABY HAS GROWN\")"
   ]
  },
  {
   "cell_type": "code",
   "execution_count": null,
   "metadata": {},
   "outputs": [],
   "source": []
  }
 ],
 "metadata": {
  "kernelspec": {
   "display_name": "Python 3",
   "language": "python",
   "name": "python3"
  },
  "language_info": {
   "codemirror_mode": {
    "name": "ipython",
    "version": 3
   },
   "file_extension": ".py",
   "mimetype": "text/x-python",
   "name": "python",
   "nbconvert_exporter": "python",
   "pygments_lexer": "ipython3",
   "version": "3.7.3"
  }
 },
 "nbformat": 4,
 "nbformat_minor": 2
}
